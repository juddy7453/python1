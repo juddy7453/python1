{
 "cells": [
  {
   "cell_type": "markdown",
   "id": "e2d62c3c",
   "metadata": {
    "id": "710ee378"
   },
   "source": [
    "# 종합실습"
   ]
  },
  {
   "cell_type": "markdown",
   "id": "f73762eb",
   "metadata": {
    "id": "e30eb3da"
   },
   "source": [
    "## 과제1. 회원 관리 프로그램"
   ]
  },
  {
   "cell_type": "markdown",
   "id": "1c411fff",
   "metadata": {
    "id": "8e48b532"
   },
   "source": [
    "* 회원 이름과 이메일 주소를 입력받아 엑셀에 저장하는 프로그램을 만드시오.\n",
    "* 'members.xlsx’ 파일에는 이미 두명의 회원이 등록되어 있습니다. \n",
    "\n",
    "* 기본 기능  \n",
    "> * 이름, 이메일, 전화번호를 입력 받아 (한꺼번에 입력받아, 리스트로 만들어 처리. .split 활용)\n",
    "> * 엑셀 틀에 맞게 제일 마지막 행에 저장\n",
    "> * 단, 이메일 주소는 실제 메일 수신 가능해야 합니다.\n",
    "\n",
    "* 심화 기능\n",
    "> * 입력값 확인. 값이 3개,  쉼표로 구분된 값인지 확인.\n",
    "> * 회원 가입을 계속할지, 종료할지를 묻기"
   ]
  },
  {
   "cell_type": "code",
   "execution_count": 12,
   "id": "cce360cf",
   "metadata": {
    "id": "5bcbadaf",
    "scrolled": true
   },
   "outputs": [
    {
     "name": "stdout",
     "output_type": "stream",
     "text": [
      "이름, 이메일, 전화번호를 입력하세요.\n",
      "각 입력 값은 쉼표로 구분되어야 합니다.\n",
      "황석영, pltojang@daum.net, 010-8888-8888\n",
      "황석영\n",
      "pltojang@daum.net\n",
      "010-8888-8888\n",
      "회원 가입을 계속 하시겠습니까? (y/n)\n",
      "n\n"
     ]
    }
   ],
   "source": [
    "import openpyxl as xl\n",
    "\n",
    "wb=xl.load_workbook('members.xlsx')\n",
    "s1=wb['Sheet1']\n",
    "l=s1.max_row\n",
    "\n",
    "\n",
    "while(True) :\n",
    "    print('이름, 이메일, 전화번호를 입력하세요.\\n각 입력 값은 쉼표로 구분되어야 합니다.')\n",
    "    info_tmp=input()\n",
    "    info_tmp=info_tmp.split(',')\n",
    "    info=[]\n",
    "    \n",
    "    for i in info_tmp :   # 입력값이 공백으로 시작한다면 공백을 제거.\n",
    "        if(i[0]==' ') :\n",
    "            tmp=i[1:]\n",
    "        else :\n",
    "            tmp=i\n",
    "        info.append(tmp)   \n",
    "    \n",
    "    for j in info :   # 입력값 확인\n",
    "        print(j)\n",
    "\n",
    "    if(len(info)!=3) :   # 값이 3개인지 확인\n",
    "        print('error : 입력값이 3개가 아닙니다.')\n",
    "        print(\"다시 입력하시겠습니까? (y/n)\")\n",
    "        asw=input()\n",
    "        if(asw=='y' or asw=='Y') :\n",
    "            continue\n",
    "        elif(asw=='n' or asw=='N') :\n",
    "            break\n",
    "        else :\n",
    "            print('error : y 또는 n으로 입력하셔야 합니다. 프로그램을 종료합니다.')\n",
    "            break\n",
    "            \n",
    "    s1.cell(l+1,1).value=info[0]\n",
    "    s1.cell(l+1,2).value=info[1]\n",
    "    s1.cell(l+1,3).value=info[2]\n",
    "    \n",
    "    l+=1\n",
    "    \n",
    "    print(\"회원 가입을 계속 하시겠습니까? (y/n)\")\n",
    "    asw=input()\n",
    "    if(asw=='y' or asw=='Y') :\n",
    "        continue\n",
    "    elif(asw=='n' or asw=='N') :\n",
    "        break\n",
    "    else :\n",
    "        print('error : y 또는 n으로 입력하셔야 합니다. 프로그램을 종료합니다.')\n",
    "        break\n",
    "        \n",
    "wb.save('members.xlsx')"
   ]
  },
  {
   "cell_type": "markdown",
   "id": "6180ce70",
   "metadata": {
    "id": "8f3a1740"
   },
   "source": [
    "## 과제2. 회원들에게 이메일 발송"
   ]
  },
  {
   "cell_type": "markdown",
   "id": "3aa6a7c5",
   "metadata": {
    "id": "7840678c"
   },
   "source": [
    "* 과제1에서 저장된 회원정보(members.xlsx)를 읽어서 회원 각각에게 이메일을 보내 봅시다.\n",
    "\n",
    "> * 제목 : “2021년 송년 인사”\n",
    "> * 내용 :  \n",
    ">     OOO 회원님 안녕하세요?  \n",
    "벌써 2021년도 저물어 가고 있습니다.  \n",
    "올 한해 정말 수고 많았습니다.   \n",
    "첨부한 커피 쿠폰으로 조금이나마 따뜻한 연말을 보내시기 바랍니다.  \n",
    "감사합니다. \n",
    "\n",
    "> * 회원마다 보내지는 이메일에서 각자 달라지는 것은,\t수신 이메일 주소, 메일 내용에서의 회원 이름 입니다."
   ]
  },
  {
   "cell_type": "code",
   "execution_count": 19,
   "id": "81f6e9af",
   "metadata": {},
   "outputs": [],
   "source": [
    "import smtplib\n",
    "from email.mime.text import MIMEText"
   ]
  },
  {
   "cell_type": "code",
   "execution_count": 20,
   "id": "908e2df8",
   "metadata": {},
   "outputs": [
    {
     "data": {
      "text/plain": [
       "(235, b'2.7.0 Accepted')"
      ]
     },
     "execution_count": 20,
     "metadata": {},
     "output_type": "execute_result"
    }
   ],
   "source": [
    "# 세션 생성\n",
    "s = smtplib.SMTP('smtp.gmail.com', 587)\n",
    "s.starttls()                                 # TLS 보안 시작\n",
    "\n",
    "# 아래 부분을 여러분의 정보로 수정해야 합니다.\n",
    "my_email='juddy7453@gmail.com'\n",
    "app_pw='pbfqlnenzflcwkpm'\n",
    "\n",
    "s.login(my_email, app_pw)        # 로그인 인증"
   ]
  },
  {
   "cell_type": "code",
   "execution_count": 21,
   "id": "b7503ef0",
   "metadata": {
    "id": "5c5a29a9"
   },
   "outputs": [
    {
     "name": "stdout",
     "output_type": "stream",
     "text": [
      "['한기영', '황석영']\n",
      "['hanky74@datainsight.biz', 'pltojang@daum.net']\n",
      "['010-1234-1234', '010-8888-8888']\n"
     ]
    }
   ],
   "source": [
    "wb=xl.load_workbook('members.xlsx')\n",
    "s1=wb['Sheet1']\n",
    "l=s1.max_row\n",
    "\n",
    "name=[]\n",
    "email=[]\n",
    "pn=[]\n",
    "\n",
    "for i in range(l-1) :\n",
    "    name.append(s1.cell(i+2,1).value)\n",
    "    email.append(s1.cell(i+2,2).value)\n",
    "    pn.append(s1.cell(i+2,3).value)\n",
    "    \n",
    "print(name)\n",
    "print(email)\n",
    "print(pn)"
   ]
  },
  {
   "cell_type": "code",
   "execution_count": 22,
   "id": "8f3ee1c8",
   "metadata": {},
   "outputs": [
    {
     "name": "stdout",
     "output_type": "stream",
     "text": [
      "한기영 hanky74@datainsight.biz 010-1234-1234\n",
      "황석영 pltojang@daum.net 010-8888-8888\n"
     ]
    }
   ],
   "source": [
    "txt_a='''회원님 안녕하세요?\n",
    "벌써 2021년도 저물어 가고 있습니다.\n",
    "올 한해 정말 수고 많았습니다.\n",
    "첨부한 커피 쿠폰으로 조금이나마 따뜻한 연말을 보내시기 바랍니다.\n",
    "감사합니다.\n",
    "'''\n",
    "for i in range(l-1) :\n",
    "    msg = MIMEText(name[i]+txt_a)\n",
    "    msg['Subject'] = '2021년 송년 인사'\n",
    "    print(name[i],email[i],pn[i])\n",
    "    s.sendmail(my_email, email[i], msg.as_string())"
   ]
  },
  {
   "cell_type": "code",
   "execution_count": null,
   "id": "7c40cab0",
   "metadata": {},
   "outputs": [],
   "source": []
  }
 ],
 "metadata": {
  "colab": {
   "collapsed_sections": [],
   "name": "과정_종합실습문제.ipynb",
   "provenance": []
  },
  "kernelspec": {
   "display_name": "Python 3",
   "language": "python",
   "name": "python3"
  },
  "language_info": {
   "codemirror_mode": {
    "name": "ipython",
    "version": 3
   },
   "file_extension": ".py",
   "mimetype": "text/x-python",
   "name": "python",
   "nbconvert_exporter": "python",
   "pygments_lexer": "ipython3",
   "version": "3.8.8"
  }
 },
 "nbformat": 4,
 "nbformat_minor": 5
}
