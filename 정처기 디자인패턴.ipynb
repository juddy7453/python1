{
 "cells": [
  {
   "cell_type": "markdown",
   "metadata": {},
   "source": [
    "수제비 정보처리기사 2022\n",
    "\n",
    "1-25 디자인 패턴"
   ]
  },
  {
   "cell_type": "code",
   "execution_count": 1,
   "metadata": {},
   "outputs": [
    {
     "name": "stdout",
     "output_type": "stream",
     "text": [
      "[{'Builder': '복합 객체 생성 시 객체를 생성하는 방법과 객체를 표현하는 방법을 분리'}, {'Prototype': '처음부터 일반적인 원형을 만들어 놓고, 그 것을 복사한 뒤 필요한 부분만 수정해서 사용'}, {'Factory Method': '상위 클래스에서 객체를 생성하는 인터페이스를 정의하고, 하위 클래스에서 인스턴스를 생성'}, {'Abstract Factory': '서로 연관되거나 의존적인 객체들의 조합을 만드는 인터페이스를 제공'}, {'Singleton': '전역변수를 사용하지 않고 객체를 하나만 생성하도록 하며, 생성된 객체를 어디에서든지 참조할 수 있도록 함'}, {'Bridge': '기능의 클래스 계층과 구현의 클래스 계층을 연결하고, 구현부에서 추상 계층을 분리하여 추상화된 부분과 실제 구현 부분을 독립적으로 확장할 수 있는 디자인 패턴'}, {'Decorator': '기존에 구현되어 있는 클래스에 필요한 기능을 추가해나감'}, {'Facade': '복잡한 시스템에 대하여 단순한 인터페이스를 제공'}, {'Flyweight': '모든 객체가 갖는 본질적인 요소를 클래스화하여 공유함으로써 메모리를 절약하고, 클래스의 경량화를 목적으로 하는 디자인 패턴'}, {'Proxy': '실체 객체에 대한 대리 객체로, 특정 객체로의 접근을 제어하기 위한 용도로 사용'}, {'Composite': '객체들의 관계를 트리 구조로 구성하여 사용자가 단일 객체와 복합 객체 모두 동일하게 다루도록 함'}, {'Adapter': '인터페이스가 호환되지 않는 클래스들을 함께 이용할 수 있도록 타 클래스의 인터페이스를 기존 인터페이스에 덧씌움'}, {'Mediator': '중간에 중재자를 두고, 중재자에게 모든 것을 요구하여 통신의 빈도수를 줄임으로써 객체 지향의 느슨한 결합 특성을 유지하게 해주는 디자인 패턴'}, {'Interpreter': '문법 자체를 캡슐화하여 사용함으로써 여러 형태의 언어 구문을 해석할 수 있게 만드는 디자인 패턴'}, {'Iterator': '컬렉션 구현 방법을 노출하지 않으면서도 그 집합체 안에 들어 있는 모든 항목에 접근할 방법을 제공함'}, {'Template Method': '상위 작업의 구조를 바꾸지 않으면서 서브 클래스로 작업의 일부를 수행해, 코드 양을 줄이고 유지보수를 용이하게 만드는 디자인 패턴'}, {'Observer': '한 객체의 상태가 바뀌면 그 객체에 의존하는 다른 객체들에 연락이 가고, 자동으로 내용이 갱신됨. 일대다의 의존성을 가진다'}, {'State': '객체 상태를 캡슐화하여 클래스화함으로써 그 것을 참조하게 하는 방식으로, 상태에 따라 다르게 처리할 수 있도록 행위 내용을 변경'}, {'Visitor': '특정 구조를 이루는 복합 객체의 원소 특성에 따라 동작을 수행할 수 있도록 지원'}, {'Command': '실행될 기능을 캡슐화해 재사용성이 높은 클래스를 설계'}, {'Strategy': '알고리즘 군을 정의하고 같은 알고리즘을 클래스로 캡슐화한 뒤, 필요할 때 서로 교환해서 사용함'}, {'Memento': '클래스 설계 관점에서 객체의 정보를 저장할 필요가 있을 때 적용하는 디자인 패턴으로, Undo 기능을 개발할 때 사용'}, {'Chain of Responsibility': '한 요청을 2개 이상의 객체에서 처리'}]\n"
     ]
    }
   ],
   "source": [
    "import random\n",
    "\n",
    "# 생성 - len(create) == 5\n",
    "create = [{'Builder':'복합 객체 생성 시 객체를 생성하는 방법과 객체를 표현하는 방법을 분리'},\n",
    "       {'Prototype':'처음부터 일반적인 원형을 만들어 놓고, 그 것을 복사한 뒤 필요한 부분만 수정해서 사용'},\n",
    "         {'Factory Method':'상위 클래스에서 객체를 생성하는 인터페이스를 정의하고, 하위 클래스에서 인스턴스를 생성'},\n",
    "         {'Abstract Factory':'서로 연관되거나 의존적인 객체들의 조합을 만드는 인터페이스를 제공'},\n",
    "         {'Singleton':'전역변수를 사용하지 않고 객체를 하나만 생성하도록 하며, 생성된 객체를 어디에서든지 참조할 수 있도록 함'}]\n",
    "\n",
    "# 구조 - len(structure) == 7\n",
    "structure = [{'Bridge':'기능의 클래스 계층과 구현의 클래스 계층을 연결하고, 구현부에서 추상 계층을 분리하여 추상화된 부분과 실제 구현 부분을 독립적으로 확장할 수 있는 디자인 패턴'},\n",
    "             {'Decorator':'기존에 구현되어 있는 클래스에 필요한 기능을 추가해나감'},\n",
    "            {'Facade':'복잡한 시스템에 대하여 단순한 인터페이스를 제공'},\n",
    "            {'Flyweight':'모든 객체가 갖는 본질적인 요소를 클래스화하여 공유함으로써 메모리를 절약하고, 클래스의 경량화를 목적으로 하는 디자인 패턴'},\n",
    "            {'Proxy':'실체 객체에 대한 대리 객체로, 특정 객체로의 접근을 제어하기 위한 용도로 사용'},\n",
    "            {'Composite':'객체들의 관계를 트리 구조로 구성하여 사용자가 단일 객체와 복합 객체 모두 동일하게 다루도록 함'},\n",
    "            {'Adapter':'인터페이스가 호환되지 않는 클래스들을 함께 이용할 수 있도록 타 클래스의 인터페이스를 기존 인터페이스에 덧씌움'}]\n",
    "\n",
    "# 행위 - len(behavior) == 11\n",
    "behavior = [{'Mediator':'중간에 중재자를 두고, 중재자에게 모든 것을 요구하여 통신의 빈도수를 줄임으로써 객체 지향의 느슨한 결합 특성을 유지하게 해주는 디자인 패턴'},\n",
    "           {'Interpreter':'문법 자체를 캡슐화하여 사용함으로써 여러 형태의 언어 구문을 해석할 수 있게 만드는 디자인 패턴'},\n",
    "           {'Iterator':'컬렉션 구현 방법을 노출하지 않으면서도 그 집합체 안에 들어 있는 모든 항목에 접근할 방법을 제공함'},\n",
    "           {'Template Method':'상위 작업의 구조를 바꾸지 않으면서 서브 클래스로 작업의 일부를 수행해, 코드 양을 줄이고 유지보수를 용이하게 만드는 디자인 패턴'},\n",
    "           {'Observer':'한 객체의 상태가 바뀌면 그 객체에 의존하는 다른 객체들에 연락이 가고, 자동으로 내용이 갱신됨. 일대다의 의존성을 가진다'},\n",
    "           {'State':'객체 상태를 캡슐화하여 클래스화함으로써 그 것을 참조하게 하는 방식으로, 상태에 따라 다르게 처리할 수 있도록 행위 내용을 변경'},\n",
    "           {'Visitor':'특정 구조를 이루는 복합 객체의 원소 특성에 따라 동작을 수행할 수 있도록 지원'},\n",
    "           {'Command':'실행될 기능을 캡슐화해 재사용성이 높은 클래스를 설계'},\n",
    "           {'Strategy':'알고리즘 군을 정의하고 같은 알고리즘을 클래스로 캡슐화한 뒤, 필요할 때 서로 교환해서 사용함'},\n",
    "           {'Memento':'클래스 설계 관점에서 객체의 정보를 저장할 필요가 있을 때 적용하는 디자인 패턴으로, Undo 기능을 개발할 때 사용'},\n",
    "           {'Chain of Responsibility':'한 요청을 2개 이상의 객체에서 처리'}]\n",
    "\n",
    "# 통합 - len(entire) == 23\n",
    "entire = create+structure+behavior\n",
    "print(entire)"
   ]
  },
  {
   "cell_type": "code",
   "execution_count": 7,
   "metadata": {},
   "outputs": [
    {
     "name": "stdout",
     "output_type": "stream",
     "text": [
      "진행->1 , 중단->0 :1\n",
      "상위 클래스에서 객체를 생성하는 인터페이스를 정의하고, 하위 클래스에서 인스턴스를 생성\n",
      "진행->1 , 중단->0 :1\n",
      "서로 연관되거나 의존적인 객체들의 조합을 만드는 인터페이스를 제공\n",
      "진행->1 , 중단->0 :1\n",
      "진행->1 , 중단->0 :1\n",
      "전역변수를 사용하지 않고 객체를 하나만 생성하도록 하며, 생성된 객체를 어디에서든지 참조할 수 있도록 함\n",
      "진행->1 , 중단->0 :1\n",
      "처음부터 일반적인 원형을 만들어 놓고, 그 것을 복사한 뒤 필요한 부분만 수정해서 사용\n",
      "진행->1 , 중단->0 :1\n",
      "복합 객체 생성 시 객체를 생성하는 방법과 객체를 표현하는 방법을 분리\n",
      "진행->1 , 중단->0 :1\n"
     ]
    }
   ],
   "source": [
    "# 패턴 설명을 보고 이름 적기\n",
    "\n",
    "# 생성\n",
    "past_index_c = set()\n",
    "\n",
    "count = 0\n",
    "\n",
    "while(True):\n",
    "    n = int(input('진행->1 , 중단->0 :'))\n",
    "    if((n == 0) or count >= 5):\n",
    "        break\n",
    "\n",
    "    r_c = random.randint(0, 4)\n",
    "    if(r_c in past_index_c):\n",
    "        continue\n",
    "        \n",
    "    past_index_c.add(r_c)\n",
    "\n",
    "    value_c = list(create[r_c].values())\n",
    "    print(value_c[0])\n",
    "    count = count + 1"
   ]
  },
  {
   "cell_type": "code",
   "execution_count": 9,
   "metadata": {},
   "outputs": [
    {
     "name": "stdout",
     "output_type": "stream",
     "text": [
      "진행->1 , 중단->0 :1\n",
      "기존에 구현되어 있는 클래스에 필요한 기능을 추가해나감\n",
      "진행->1 , 중단->0 :1\n",
      "모든 객체가 갖는 본질적인 요소를 클래스화하여 공유함으로써 메모리를 절약하고, 클래스의 경량화를 목적으로 하는 디자인 패턴\n",
      "진행->1 , 중단->0 :1\n",
      "기능의 클래스 계층과 구현의 클래스 계층을 연결하고, 구현부에서 추상 계층을 분리하여 추상화된 부분과 실제 구현 부분을 독립적으로 확장할 수 있는 디자인 패턴\n",
      "진행->1 , 중단->0 :1\n",
      "진행->1 , 중단->0 :1\n",
      "복잡한 시스템에 대하여 단순한 인터페이스를 제공\n",
      "진행->1 , 중단->0 :1\n",
      "진행->1 , 중단->0 :1\n",
      "인터페이스가 호환되지 않는 클래스들을 함께 이용할 수 있도록 타 클래스의 인터페이스를 기존 인터페이스에 덧씌움\n",
      "진행->1 , 중단->0 :1\n",
      "진행->1 , 중단->0 :1\n",
      "진행->1 , 중단->0 :1\n",
      "진행->1 , 중단->0 :1\n",
      "객체들의 관계를 트리 구조로 구성하여 사용자가 단일 객체와 복합 객체 모두 동일하게 다루도록 함\n",
      "진행->1 , 중단->0 :1\n",
      "진행->1 , 중단->0 :1\n",
      "진행->1 , 중단->0 :1\n",
      "진행->1 , 중단->0 :1\n",
      "진행->1 , 중단->0 :1\n",
      "진행->1 , 중단->0 :1\n",
      "진행->1 , 중단->0 :1\n",
      "실체 객체에 대한 대리 객체로, 특정 객체로의 접근을 제어하기 위한 용도로 사용\n",
      "진행->1 , 중단->0 :1\n"
     ]
    }
   ],
   "source": [
    "# 구조\n",
    "past_index_s = set()\n",
    "\n",
    "count = 0\n",
    "\n",
    "while(True):\n",
    "    n = int(input('진행->1 , 중단->0 :'))\n",
    "    if((n == 0) or count >= 7):\n",
    "        break\n",
    "        \n",
    "    r_s = random.randint(0, 6)\n",
    "    if(r_s in past_index_s):\n",
    "        continue\n",
    "        \n",
    "    past_index_s.add(r_s)\n",
    "\n",
    "    value_s = list(structure[r_s].values())\n",
    "    print(value_s[0])\n",
    "    count = count + 1"
   ]
  },
  {
   "cell_type": "code",
   "execution_count": 10,
   "metadata": {},
   "outputs": [
    {
     "name": "stdout",
     "output_type": "stream",
     "text": [
      "진행->1 , 중단->0 :1\n",
      "객체 상태를 캡슐화하여 클래스화함으로써 그 것을 참조하게 하는 방식으로, 상태에 따라 다르게 처리할 수 있도록 행위 내용을 변경\n",
      "진행->1 , 중단->0 :1\n",
      "한 요청을 2개 이상의 객체에서 처리\n",
      "진행->1 , 중단->0 :1\n",
      "컬렉션 구현 방법을 노출하지 않으면서도 그 집합체 안에 들어 있는 모든 항목에 접근할 방법을 제공함\n",
      "진행->1 , 중단->0 :1\n",
      "문법 자체를 캡슐화하여 사용함으로써 여러 형태의 언어 구문을 해석할 수 있게 만드는 디자인 패턴\n",
      "진행->1 , 중단->0 :0\n"
     ]
    }
   ],
   "source": [
    "# 행위\n",
    "past_index_b = set()\n",
    "\n",
    "count = 0\n",
    "\n",
    "while(True):\n",
    "    n = int(input('진행->1 , 중단->0 :'))\n",
    "    if((n == 0) or count >= 11):\n",
    "        break\n",
    "        \n",
    "    r_b = random.randint(0, 10)\n",
    "    if(r_b in past_index_b):\n",
    "        continue\n",
    "        \n",
    "    past_index_b.add(r_b)\n",
    "\n",
    "    value_b = list(behavior[r_b].values())\n",
    "    print(value_b[0])\n",
    "    count = count + 1"
   ]
  },
  {
   "cell_type": "code",
   "execution_count": 11,
   "metadata": {},
   "outputs": [
    {
     "name": "stdout",
     "output_type": "stream",
     "text": [
      "진행->1 , 중단->0 :1\n",
      "객체 상태를 캡슐화하여 클래스화함으로써 그 것을 참조하게 하는 방식으로, 상태에 따라 다르게 처리할 수 있도록 행위 내용을 변경\n",
      "진행->1 , 중단->0 :1\n",
      "알고리즘 군을 정의하고 같은 알고리즘을 클래스로 캡슐화한 뒤, 필요할 때 서로 교환해서 사용함\n",
      "진행->1 , 중단->0 :1\n",
      "서로 연관되거나 의존적인 객체들의 조합을 만드는 인터페이스를 제공\n",
      "진행->1 , 중단->0 :1\n",
      "복잡한 시스템에 대하여 단순한 인터페이스를 제공\n",
      "진행->1 , 중단->0 :0\n"
     ]
    }
   ],
   "source": [
    "# 통합\n",
    "past_index_e = set()\n",
    "\n",
    "count = 0\n",
    "\n",
    "while(True):\n",
    "    n = int(input('진행->1 , 중단->0 :'))\n",
    "    if((n == 0) or count >= 23):\n",
    "        break\n",
    "        \n",
    "    r_e = random.randint(0, 20)\n",
    "    if(r_e in past_index_e):\n",
    "        continue\n",
    "        \n",
    "    past_index_e.add(r_b)\n",
    "\n",
    "    value_e = list(entire[r_e].values())\n",
    "    print(value_e[0])\n",
    "    count = count + 1"
   ]
  },
  {
   "cell_type": "code",
   "execution_count": 12,
   "metadata": {},
   "outputs": [
    {
     "name": "stdout",
     "output_type": "stream",
     "text": [
      "진행->1 , 중단->0 :1\n",
      "Abstract Factory\n",
      "진행->1 , 중단->0 :0\n"
     ]
    }
   ],
   "source": [
    "# 패턴 이름을 보고 설명 적기\n",
    "\n",
    "# 생성\n",
    "while(True):\n",
    "    n = int(input('진행->1 , 중단->0 :'))\n",
    "    if(n == 0):\n",
    "        break\n",
    "    r_c = random.randint(0, 4)\n",
    "    key_c = list(create[r_c].keys())\n",
    "    print(key_c[0])"
   ]
  },
  {
   "cell_type": "code",
   "execution_count": 13,
   "metadata": {},
   "outputs": [
    {
     "name": "stdout",
     "output_type": "stream",
     "text": [
      "진행->1 , 중단->0 :1\n",
      "Bridge\n",
      "진행->1 , 중단->0 :0\n"
     ]
    }
   ],
   "source": [
    "# 구조\n",
    "while(True):\n",
    "    n = int(input('진행->1 , 중단->0 :'))\n",
    "    if(n == 0):\n",
    "        break\n",
    "    r_s = random.randint(0, 6)\n",
    "    key_s = list(structure[r_s].keys())\n",
    "    print(key_s[0])"
   ]
  },
  {
   "cell_type": "code",
   "execution_count": 14,
   "metadata": {},
   "outputs": [
    {
     "name": "stdout",
     "output_type": "stream",
     "text": [
      "진행->1 , 중단->0 :1\n",
      "Chain of Responsibility\n",
      "진행->1 , 중단->0 :0\n"
     ]
    }
   ],
   "source": [
    "# 행위\n",
    "while(True):\n",
    "    n = int(input('진행->1 , 중단->0 :'))\n",
    "    if(n == 0):\n",
    "        break\n",
    "    r_b = random.randint(0, 10)\n",
    "    key_b = list(behavior[r_b].keys())\n",
    "    print(key_b[0])"
   ]
  },
  {
   "cell_type": "code",
   "execution_count": 15,
   "metadata": {},
   "outputs": [
    {
     "name": "stdout",
     "output_type": "stream",
     "text": [
      "진행->1 , 중단->0 :1\n",
      "Facade\n",
      "진행->1 , 중단->0 :0\n"
     ]
    }
   ],
   "source": [
    "# 통합\n",
    "while(True):\n",
    "    n = int(input('진행->1 , 중단->0 :'))\n",
    "    if(n == 0):\n",
    "        break\n",
    "    r_e = random.randint(0, 20)\n",
    "    key_e = list(entire[r_e].keys())\n",
    "    print(key_e[0])"
   ]
  }
 ],
 "metadata": {
  "kernelspec": {
   "display_name": "Python 3",
   "language": "python",
   "name": "python3"
  },
  "language_info": {
   "codemirror_mode": {
    "name": "ipython",
    "version": 3
   },
   "file_extension": ".py",
   "mimetype": "text/x-python",
   "name": "python",
   "nbconvert_exporter": "python",
   "pygments_lexer": "ipython3",
   "version": "3.8.5"
  }
 },
 "nbformat": 4,
 "nbformat_minor": 4
}
