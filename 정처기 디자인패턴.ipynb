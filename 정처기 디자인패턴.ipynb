{
 "cells": [
  {
   "cell_type": "markdown",
   "metadata": {},
   "source": [
    "수제비 정보처리기사 2022\n",
    "\n",
    "1-25 디자인 패턴"
   ]
  },
  {
   "cell_type": "code",
   "execution_count": 14,
   "metadata": {},
   "outputs": [
    {
     "name": "stdout",
     "output_type": "stream",
     "text": [
      "[{'Builder': '복합 객체 생성 시 객체를 생성하는 방법과 객체를 표현하는 방법을 분리'}, {'Prototype': '처음부터 일반적인 원형을 만들어 놓고, 그 것을 복사한 뒤 필요한 부분만 수정해서 사용'}, {'Factory Method': '상위 클래스에서 객체를 생성하는 인터페이스를 정의하고, 하위 클래스에서 인스턴스를 생성'}, {'Abstract Factory': '서로 연관되거나 의존적인 객체들의 조합을 만드는 인터페이스를 제공'}, {'Singleton': '전역변수를 사용하지 않고 객체를 하나만 생성하도록 하며, 생성된 객체를 어디에서든지 참조할 수 있도록 함'}, {'Bridge': '기능의 클래스 계층과 구현의 클래스 계층을 연결하고, 구현부에서 추상 계층을 분리하여 추상화된 부분과 실제 구현 부분을 독립적으로 확장할 수 있는 디자인 패턴'}, {'Decorator': '기존에 구현되어 있는 클래스에 필요한 기능을 추가해나감'}, {'Facade': '복잡한 시스템에 대하여 단순한 인터페이스를 제공'}, {'Flyweight': '모든 객체가 갖는 본질적인 요소를 클래스화하여 공유함으로써 메모리를 절약하고, 클래스의 경량화를 목적으로 하는 디자인 패턴'}, {'Proxy': '실체 객체에 대한 대리 객체로, 특정 객체로의 접근을 제어하기 위한 용도로 사용'}, {'Composite': '객체들의 관계를 트리 구조로 구성하여 사용자가 단일 객체와 복합 객체 모두 동일하게 다루도록 함'}, {'Adapter': '인터페이스가 호환되지 않는 클래스들을 함께 이용할 수 있도록 타 클래스의 인터페이스를 기존 인터페이스에 덧씌움'}, {'Mediator': '중간에 중재자를 두고, 중재자에게 모든 것을 요구하여 통신의 빈도수를 줄임으로써 객체 지향의 느슨한 결합 특성을 유지하게 해주는 디자인 패턴'}, {'Interpreter': '문법 자체를 캡슐화하여 사용함으로써 여러 형태의 언어 구문을 해석할 수 있게 만드는 디자인 패턴'}, {'Iterator': '컬렉션 구현 방법을 노출하지 않으면서도 그 집합체 안에 들어 있는 모든 항목에 접근할 방법을 제공함'}, {'Template Method': '상위 작업의 구조를 바꾸지 않으면서 서브 클래스로 작업의 일부를 수행해, 코드 양을 줄이고 유지보수를 용이하게 만드는 디자인 패턴'}, {'Observer': '한 객체의 상태가 바뀌면 그 객체에 의존하는 다른 객체들에 연락이 가고, 자동으로 내용이 갱신됨. 일대다의 의존성을 가진다'}, {'State': '객체 상태를 캡슐화하여 클래스화함으로써 그 것을 참조하게 하는 방식으로, 상태에 따라 다르게 처리할 수 있도록 행위 내용을 변경'}, {'Visitor': '특정 구조를 이루는 복합 객체의 원소 특성에 따라 동작을 수행할 수 있도록 지원'}, {'Command': '요구사항을 객체로 캡슐화'}, {'Strategy': '행위 객체를 클래스로 캡슐화해 동적으로 행위를 자유롭게 변환'}, {'Memento': '클래스 설계 관점에서 객체의 정보를 저장할 필요가 있을 때 적용하는 디자인 패턴으로, Undo 기능을 개발할 때 사용'}, {'Chain of Responsibility': '한 요청을 2개 이상의 객체에서 처리'}]\n"
     ]
    }
   ],
   "source": [
    "import random\n",
    "\n",
    "# 생성\n",
    "create = [{'Builder':'복합 객체 생성 시 객체를 생성하는 방법과 객체를 표현하는 방법을 분리'},\n",
    "       {'Prototype':'처음부터 일반적인 원형을 만들어 놓고, 그 것을 복사한 뒤 필요한 부분만 수정해서 사용'},\n",
    "         {'Factory Method':'상위 클래스에서 객체를 생성하는 인터페이스를 정의하고, 하위 클래스에서 인스턴스를 생성'},\n",
    "         {'Abstract Factory':'서로 연관되거나 의존적인 객체들의 조합을 만드는 인터페이스를 제공'},\n",
    "         {'Singleton':'전역변수를 사용하지 않고 객체를 하나만 생성하도록 하며, 생성된 객체를 어디에서든지 참조할 수 있도록 함'}]\n",
    "\n",
    "# 구조\n",
    "structure = [{'Bridge':'기능의 클래스 계층과 구현의 클래스 계층을 연결하고, 구현부에서 추상 계층을 분리하여 추상화된 부분과 실제 구현 부분을 독립적으로 확장할 수 있는 디자인 패턴'},\n",
    "             {'Decorator':'기존에 구현되어 있는 클래스에 필요한 기능을 추가해나감'},\n",
    "            {'Facade':'복잡한 시스템에 대하여 단순한 인터페이스를 제공'},\n",
    "            {'Flyweight':'모든 객체가 갖는 본질적인 요소를 클래스화하여 공유함으로써 메모리를 절약하고, 클래스의 경량화를 목적으로 하는 디자인 패턴'},\n",
    "            {'Proxy':'실체 객체에 대한 대리 객체로, 특정 객체로의 접근을 제어하기 위한 용도로 사용'},\n",
    "            {'Composite':'객체들의 관계를 트리 구조로 구성하여 사용자가 단일 객체와 복합 객체 모두 동일하게 다루도록 함'},\n",
    "            {'Adapter':'인터페이스가 호환되지 않는 클래스들을 함께 이용할 수 있도록 타 클래스의 인터페이스를 기존 인터페이스에 덧씌움'}]\n",
    "\n",
    "# 행위\n",
    "behavior = [{'Mediator':'중간에 중재자를 두고, 중재자에게 모든 것을 요구하여 통신의 빈도수를 줄임으로써 객체 지향의 느슨한 결합 특성을 유지하게 해주는 디자인 패턴'},\n",
    "           {'Interpreter':'문법 자체를 캡슐화하여 사용함으로써 여러 형태의 언어 구문을 해석할 수 있게 만드는 디자인 패턴'},\n",
    "           {'Iterator':'컬렉션 구현 방법을 노출하지 않으면서도 그 집합체 안에 들어 있는 모든 항목에 접근할 방법을 제공함'},\n",
    "           {'Template Method':'상위 작업의 구조를 바꾸지 않으면서 서브 클래스로 작업의 일부를 수행해, 코드 양을 줄이고 유지보수를 용이하게 만드는 디자인 패턴'},\n",
    "           {'Observer':'한 객체의 상태가 바뀌면 그 객체에 의존하는 다른 객체들에 연락이 가고, 자동으로 내용이 갱신됨. 일대다의 의존성을 가진다'},\n",
    "           {'State':'객체 상태를 캡슐화하여 클래스화함으로써 그 것을 참조하게 하는 방식으로, 상태에 따라 다르게 처리할 수 있도록 행위 내용을 변경'},\n",
    "           {'Visitor':'특정 구조를 이루는 복합 객체의 원소 특성에 따라 동작을 수행할 수 있도록 지원'},\n",
    "           {'Command':'요구사항을 객체로 캡슐화'},\n",
    "           {'Strategy':'행위 객체를 클래스로 캡슐화해 동적으로 행위를 자유롭게 변환'},\n",
    "           {'Memento':'클래스 설계 관점에서 객체의 정보를 저장할 필요가 있을 때 적용하는 디자인 패턴으로, Undo 기능을 개발할 때 사용'},\n",
    "           {'Chain of Responsibility':'한 요청을 2개 이상의 객체에서 처리'}]\n",
    "\n",
    "# 통합\n",
    "entire = create+structure+behavior\n",
    "print(entire)"
   ]
  },
  {
   "cell_type": "code",
   "execution_count": 8,
   "metadata": {},
   "outputs": [
    {
     "ename": "KeyboardInterrupt",
     "evalue": "Interrupted by user",
     "output_type": "error",
     "traceback": [
      "\u001b[1;31m---------------------------------------------------------------------------\u001b[0m",
      "\u001b[1;31mKeyboardInterrupt\u001b[0m                         Traceback (most recent call last)",
      "\u001b[1;32m<ipython-input-8-7b7186119c3d>\u001b[0m in \u001b[0;36m<module>\u001b[1;34m\u001b[0m\n\u001b[0;32m      3\u001b[0m \u001b[1;31m# 생성\u001b[0m\u001b[1;33m\u001b[0m\u001b[1;33m\u001b[0m\u001b[1;33m\u001b[0m\u001b[0m\n\u001b[0;32m      4\u001b[0m \u001b[1;32mwhile\u001b[0m\u001b[1;33m(\u001b[0m\u001b[1;32mTrue\u001b[0m\u001b[1;33m)\u001b[0m\u001b[1;33m:\u001b[0m\u001b[1;33m\u001b[0m\u001b[1;33m\u001b[0m\u001b[0m\n\u001b[1;32m----> 5\u001b[1;33m     \u001b[0mn\u001b[0m \u001b[1;33m=\u001b[0m \u001b[0mint\u001b[0m\u001b[1;33m(\u001b[0m\u001b[0minput\u001b[0m\u001b[1;33m(\u001b[0m\u001b[1;34m'진행->1 , 중단->0 :'\u001b[0m\u001b[1;33m)\u001b[0m\u001b[1;33m)\u001b[0m\u001b[1;33m\u001b[0m\u001b[1;33m\u001b[0m\u001b[0m\n\u001b[0m\u001b[0;32m      6\u001b[0m     \u001b[1;32mif\u001b[0m\u001b[1;33m(\u001b[0m\u001b[0mn\u001b[0m \u001b[1;33m==\u001b[0m \u001b[1;36m0\u001b[0m\u001b[1;33m)\u001b[0m\u001b[1;33m:\u001b[0m\u001b[1;33m\u001b[0m\u001b[1;33m\u001b[0m\u001b[0m\n\u001b[0;32m      7\u001b[0m         \u001b[1;32mbreak\u001b[0m\u001b[1;33m\u001b[0m\u001b[1;33m\u001b[0m\u001b[0m\n",
      "\u001b[1;32m~\\anaconda3\\lib\\site-packages\\ipykernel\\kernelbase.py\u001b[0m in \u001b[0;36mraw_input\u001b[1;34m(self, prompt)\u001b[0m\n\u001b[0;32m    858\u001b[0m                 \u001b[1;34m\"raw_input was called, but this frontend does not support input requests.\"\u001b[0m\u001b[1;33m\u001b[0m\u001b[1;33m\u001b[0m\u001b[0m\n\u001b[0;32m    859\u001b[0m             )\n\u001b[1;32m--> 860\u001b[1;33m         return self._input_request(str(prompt),\n\u001b[0m\u001b[0;32m    861\u001b[0m             \u001b[0mself\u001b[0m\u001b[1;33m.\u001b[0m\u001b[0m_parent_ident\u001b[0m\u001b[1;33m,\u001b[0m\u001b[1;33m\u001b[0m\u001b[1;33m\u001b[0m\u001b[0m\n\u001b[0;32m    862\u001b[0m             \u001b[0mself\u001b[0m\u001b[1;33m.\u001b[0m\u001b[0m_parent_header\u001b[0m\u001b[1;33m,\u001b[0m\u001b[1;33m\u001b[0m\u001b[1;33m\u001b[0m\u001b[0m\n",
      "\u001b[1;32m~\\anaconda3\\lib\\site-packages\\ipykernel\\kernelbase.py\u001b[0m in \u001b[0;36m_input_request\u001b[1;34m(self, prompt, ident, parent, password)\u001b[0m\n\u001b[0;32m    902\u001b[0m             \u001b[1;32mexcept\u001b[0m \u001b[0mKeyboardInterrupt\u001b[0m\u001b[1;33m:\u001b[0m\u001b[1;33m\u001b[0m\u001b[1;33m\u001b[0m\u001b[0m\n\u001b[0;32m    903\u001b[0m                 \u001b[1;31m# re-raise KeyboardInterrupt, to truncate traceback\u001b[0m\u001b[1;33m\u001b[0m\u001b[1;33m\u001b[0m\u001b[1;33m\u001b[0m\u001b[0m\n\u001b[1;32m--> 904\u001b[1;33m                 \u001b[1;32mraise\u001b[0m \u001b[0mKeyboardInterrupt\u001b[0m\u001b[1;33m(\u001b[0m\u001b[1;34m\"Interrupted by user\"\u001b[0m\u001b[1;33m)\u001b[0m \u001b[1;32mfrom\u001b[0m \u001b[1;32mNone\u001b[0m\u001b[1;33m\u001b[0m\u001b[1;33m\u001b[0m\u001b[0m\n\u001b[0m\u001b[0;32m    905\u001b[0m             \u001b[1;32mexcept\u001b[0m \u001b[0mException\u001b[0m \u001b[1;32mas\u001b[0m \u001b[0me\u001b[0m\u001b[1;33m:\u001b[0m\u001b[1;33m\u001b[0m\u001b[1;33m\u001b[0m\u001b[0m\n\u001b[0;32m    906\u001b[0m                 \u001b[0mself\u001b[0m\u001b[1;33m.\u001b[0m\u001b[0mlog\u001b[0m\u001b[1;33m.\u001b[0m\u001b[0mwarning\u001b[0m\u001b[1;33m(\u001b[0m\u001b[1;34m\"Invalid Message:\"\u001b[0m\u001b[1;33m,\u001b[0m \u001b[0mexc_info\u001b[0m\u001b[1;33m=\u001b[0m\u001b[1;32mTrue\u001b[0m\u001b[1;33m)\u001b[0m\u001b[1;33m\u001b[0m\u001b[1;33m\u001b[0m\u001b[0m\n",
      "\u001b[1;31mKeyboardInterrupt\u001b[0m: Interrupted by user"
     ]
    }
   ],
   "source": [
    "# 패턴 이름을 보고 설명 적기\n",
    "\n",
    "# 생성\n",
    "while(True):\n",
    "    n = int(input('진행->1 , 중단->0 :'))\n",
    "    if(n == 0):\n",
    "        break\n",
    "    r_c = random.randint(0, 4)\n",
    "    key_c = list(create[r_c].keys())\n",
    "    print(key_c[0])"
   ]
  },
  {
   "cell_type": "code",
   "execution_count": 9,
   "metadata": {},
   "outputs": [
    {
     "name": "stdout",
     "output_type": "stream",
     "text": [
      "진행->1 , 중단->0 :1\n",
      "Flyweight\n",
      "진행->1 , 중단->0 :1\n",
      "Flyweight\n",
      "진행->1 , 중단->0 :1\n",
      "Decorator\n",
      "진행->1 , 중단->0 :1\n",
      "Facade\n",
      "진행->1 , 중단->0 :1\n",
      "Bridge\n",
      "진행->1 , 중단->0 :1\n",
      "Adapter\n",
      "진행->1 , 중단->0 :1\n",
      "Adapter\n",
      "진행->1 , 중단->0 :1\n",
      "Facade\n",
      "진행->1 , 중단->0 :1\n",
      "Bridge\n",
      "진행->1 , 중단->0 :0\n"
     ]
    }
   ],
   "source": [
    "# 구조\n",
    "while(True):\n",
    "    n = int(input('진행->1 , 중단->0 :'))\n",
    "    if(n == 0):\n",
    "        break\n",
    "    r_s = random.randint(0, 6)\n",
    "    key_s = list(structure[r_s].keys())\n",
    "    print(key_s[0])"
   ]
  },
  {
   "cell_type": "code",
   "execution_count": 12,
   "metadata": {},
   "outputs": [
    {
     "name": "stdout",
     "output_type": "stream",
     "text": [
      "진행->1 , 중단->0 :1\n",
      "Iterator\n",
      "진행->1 , 중단->0 :1\n",
      "Mediator\n",
      "진행->1 , 중단->0 :1\n",
      "Interpreter\n",
      "진행->1 , 중단->0 :1\n",
      "Interpreter\n",
      "진행->1 , 중단->0 :1\n",
      "Visitor\n",
      "진행->1 , 중단->0 :1\n",
      "State\n",
      "진행->1 , 중단->0 :1\n",
      "Mediator\n",
      "진행->1 , 중단->0 :1\n",
      "Interpreter\n",
      "진행->1 , 중단->0 :0\n"
     ]
    }
   ],
   "source": [
    "# 행위\n",
    "while(True):\n",
    "    n = int(input('진행->1 , 중단->0 :'))\n",
    "    if(n == 0):\n",
    "        break\n",
    "    r_b = random.randint(0, 10)\n",
    "    key_b = list(behavior[r_b].keys())\n",
    "    print(key_b[0])"
   ]
  },
  {
   "cell_type": "code",
   "execution_count": 16,
   "metadata": {},
   "outputs": [
    {
     "name": "stdout",
     "output_type": "stream",
     "text": [
      "진행->1 , 중단->0 :1\n",
      "Interpreter\n",
      "진행->1 , 중단->0 :1\n",
      "Bridge\n",
      "진행->1 , 중단->0 :1\n",
      "Proxy\n",
      "진행->1 , 중단->0 :1\n",
      "Strategy\n",
      "진행->1 , 중단->0 :1\n",
      "Interpreter\n",
      "진행->1 , 중단->0 :1\n",
      "Builder\n",
      "진행->1 , 중단->0 :1\n",
      "Proxy\n",
      "진행->1 , 중단->0 :1\n",
      "Adapter\n",
      "진행->1 , 중단->0 :1\n",
      "Singleton\n",
      "진행->1 , 중단->0 :1\n",
      "Decorator\n",
      "진행->1 , 중단->0 :1\n",
      "Mediator\n",
      "진행->1 , 중단->0 :1\n",
      "Template Method\n",
      "진행->1 , 중단->0 :1\n",
      "Mediator\n",
      "진행->1 , 중단->0 :1\n",
      "Bridge\n",
      "진행->1 , 중단->0 :0\n"
     ]
    }
   ],
   "source": [
    "# 통합\n",
    "while(True):\n",
    "    n = int(input('진행->1 , 중단->0 :'))\n",
    "    if(n == 0):\n",
    "        break\n",
    "    r_e = random.randint(0, 20)\n",
    "    key_e = list(entire[r_e].keys())\n",
    "    print(key_e[0])"
   ]
  },
  {
   "cell_type": "code",
   "execution_count": 5,
   "metadata": {},
   "outputs": [
    {
     "name": "stdout",
     "output_type": "stream",
     "text": [
      "진행->1 , 중단->0 :1\n",
      "처음부터 일반적인 원형을 만들어 놓고, 그 것을 복사한 뒤 필요한 부분만 수정해서 사용\n",
      "진행->1 , 중단->0 :1\n",
      "처음부터 일반적인 원형을 만들어 놓고, 그 것을 복사한 뒤 필요한 부분만 수정해서 사용\n",
      "진행->1 , 중단->0 :1\n",
      "전역변수를 사용하지 않고 객체를 하나만 생성하도록 하며, 생성된 객체를 어디에서든지 참조할 수 있도록 함\n",
      "진행->1 , 중단->0 :1\n",
      "처음부터 일반적인 원형을 만들어 놓고, 그 것을 복사한 뒤 필요한 부분만 수정해서 사용\n",
      "진행->1 , 중단->0 :1\n",
      "처음부터 일반적인 원형을 만들어 놓고, 그 것을 복사한 뒤 필요한 부분만 수정해서 사용\n",
      "진행->1 , 중단->0 :1\n",
      "서로 연관되거나 의존적인 객체들의 조합을 만드는 인터페이스를 제공\n",
      "진행->1 , 중단->0 :1\n",
      "전역변수를 사용하지 않고 객체를 하나만 생성하도록 하며, 생성된 객체를 어디에서든지 참조할 수 있도록 함\n",
      "진행->1 , 중단->0 :1\n",
      "전역변수를 사용하지 않고 객체를 하나만 생성하도록 하며, 생성된 객체를 어디에서든지 참조할 수 있도록 함\n",
      "진행->1 , 중단->0 :0\n"
     ]
    }
   ],
   "source": [
    "# 패턴 설명을 보고 이름 적기\n",
    "\n",
    "# 생성\n",
    "while(True):\n",
    "    n = int(input('진행->1 , 중단->0 :'))\n",
    "    if(n == 0):\n",
    "        break\n",
    "    r_c = random.randint(0, 4)\n",
    "    value_c = list(create[r_c].values())\n",
    "    print(value_c[0])"
   ]
  },
  {
   "cell_type": "code",
   "execution_count": 10,
   "metadata": {},
   "outputs": [
    {
     "name": "stdout",
     "output_type": "stream",
     "text": [
      "진행->1 , 중단->0 :1\n",
      "실체 객체에 대한 대리 객체로, 특정 객체로의 접근을 제어하기 위한 용도로 사용\n",
      "진행->1 , 중단->0 :1\n",
      "실체 객체에 대한 대리 객체로, 특정 객체로의 접근을 제어하기 위한 용도로 사용\n",
      "진행->1 , 중단->0 :1\n",
      "실체 객체에 대한 대리 객체로, 특정 객체로의 접근을 제어하기 위한 용도로 사용\n",
      "진행->1 , 중단->0 :1\n",
      "복잡한 시스템에 대하여 단순한 인터페이스를 제공\n",
      "진행->1 , 중단->0 :1\n",
      "인터페이스가 호환되지 않는 클래스들을 함께 이용할 수 있도록 타 클래스의 인터페이스를 기존 인터페이스에 덧씌움\n",
      "진행->1 , 중단->0 :1\n",
      "기존에 구현되어 있는 클래스에 필요한 기능을 추가해나감\n",
      "진행->1 , 중단->0 :1\n",
      "기능의 클래스 계층과 구현의 클래스 계층을 연결하고, 구현부에서 추상 계층을 분리하여 추상화된 부분과 실제 구현 부분을 독립적으로 확장할 수 있는 디자인 패턴\n",
      "진행->1 , 중단->0 :1\n",
      "실체 객체에 대한 대리 객체로, 특정 객체로의 접근을 제어하기 위한 용도로 사용\n",
      "진행->1 , 중단->0 :1\n",
      "모든 객체가 갖는 본질적인 요소를 클래스화하여 공유함으로써 메모리를 절약하고, 클래스의 경량화를 목적으로 하는 디자인 패턴\n",
      "진행->1 , 중단->0 :1\n",
      "객체들의 관계를 트리 구조로 구성하여 사용자가 단일 객체와 복합 객체 모두 동일하게 다루도록 함\n",
      "진행->1 , 중단->0 :0\n"
     ]
    }
   ],
   "source": [
    "# 구조\n",
    "while(True):\n",
    "    n = int(input('진행->1 , 중단->0 :'))\n",
    "    if(n == 0):\n",
    "        break\n",
    "    r_s = random.randint(0, 6)\n",
    "    value_s = list(structure[r_s].values())\n",
    "    print(value_s[0])"
   ]
  },
  {
   "cell_type": "code",
   "execution_count": 13,
   "metadata": {},
   "outputs": [
    {
     "name": "stdout",
     "output_type": "stream",
     "text": [
      "진행->1 , 중단->0 :1\n",
      "요구사항을 객체로 캡슐화\n",
      "진행->1 , 중단->0 :1\n",
      "한 객체의 상태가 바뀌면 그 객체에 의존하는 다른 객체들에 연락이 가고, 자동으로 내용이 갱신됨. 일대다의 의존성을 가진다\n",
      "진행->1 , 중단->0 :1\n",
      "한 요청을 2개 이상의 객체에서 처리\n",
      "진행->1 , 중단->0 :1\n",
      "요구사항을 객체로 캡슐화\n",
      "진행->1 , 중단->0 :1\n",
      "특정 구조를 이루는 복합 객체의 원소 특성에 따라 동작을 수행할 수 있도록 지원\n",
      "진행->1 , 중단->0 :1\n",
      "행위 객체를 클래스로 캡슐화해 동적으로 행위를 자유롭게 변환\n",
      "진행->1 , 중단->0 :1\n",
      "요구사항을 객체로 캡슐화\n",
      "진행->1 , 중단->0 :1\n",
      "객체 상태를 캡슐화하여 클래스화함으로써 그 것을 참조하게 하는 방식으로, 상태에 따라 다르게 처리할 수 있도록 행위 내용을 변경\n",
      "진행->1 , 중단->0 :1\n",
      "객체 상태를 캡슐화하여 클래스화함으로써 그 것을 참조하게 하는 방식으로, 상태에 따라 다르게 처리할 수 있도록 행위 내용을 변경\n",
      "진행->1 , 중단->0 :1\n",
      "상위 작업의 구조를 바꾸지 않으면서 서브 클래스로 작업의 일부를 수행해, 코드 양을 줄이고 유지보수를 용이하게 만드는 디자인 패턴\n",
      "진행->1 , 중단->0 :1\n",
      "한 객체의 상태가 바뀌면 그 객체에 의존하는 다른 객체들에 연락이 가고, 자동으로 내용이 갱신됨. 일대다의 의존성을 가진다\n",
      "진행->1 , 중단->0 :1\n",
      "컬렉션 구현 방법을 노출하지 않으면서도 그 집합체 안에 들어 있는 모든 항목에 접근할 방법을 제공함\n",
      "진행->1 , 중단->0 :0\n"
     ]
    }
   ],
   "source": [
    "# 행위\n",
    "while(True):\n",
    "    n = int(input('진행->1 , 중단->0 :'))\n",
    "    if(n == 0):\n",
    "        break\n",
    "    r_b = random.randint(0, 10)\n",
    "    value_b = list(behavior[r_b].values())\n",
    "    print(value_b[0])"
   ]
  },
  {
   "cell_type": "code",
   "execution_count": 17,
   "metadata": {},
   "outputs": [
    {
     "name": "stdout",
     "output_type": "stream",
     "text": [
      "진행->1 , 중단->0 :1\n",
      "인터페이스가 호환되지 않는 클래스들을 함께 이용할 수 있도록 타 클래스의 인터페이스를 기존 인터페이스에 덧씌움\n",
      "진행->1 , 중단->0 :1\n",
      "문법 자체를 캡슐화하여 사용함으로써 여러 형태의 언어 구문을 해석할 수 있게 만드는 디자인 패턴\n",
      "진행->1 , 중단->0 :1\n",
      "행위 객체를 클래스로 캡슐화해 동적으로 행위를 자유롭게 변환\n",
      "진행->1 , 중단->0 :1\n",
      "실체 객체에 대한 대리 객체로, 특정 객체로의 접근을 제어하기 위한 용도로 사용\n",
      "진행->1 , 중단->0 :1\n",
      "복잡한 시스템에 대하여 단순한 인터페이스를 제공\n",
      "진행->1 , 중단->0 :1\n",
      "처음부터 일반적인 원형을 만들어 놓고, 그 것을 복사한 뒤 필요한 부분만 수정해서 사용\n",
      "진행->1 , 중단->0 :1\n",
      "중간에 중재자를 두고, 중재자에게 모든 것을 요구하여 통신의 빈도수를 줄임으로써 객체 지향의 느슨한 결합 특성을 유지하게 해주는 디자인 패턴\n",
      "진행->1 , 중단->0 :1\n",
      "서로 연관되거나 의존적인 객체들의 조합을 만드는 인터페이스를 제공\n",
      "진행->1 , 중단->0 :1\n",
      "기존에 구현되어 있는 클래스에 필요한 기능을 추가해나감\n",
      "진행->1 , 중단->0 :0\n"
     ]
    }
   ],
   "source": [
    "# 통합\n",
    "while(True):\n",
    "    n = int(input('진행->1 , 중단->0 :'))\n",
    "    if(n == 0):\n",
    "        break\n",
    "    r_e = random.randint(0, 20)\n",
    "    value_e = list(entire[r_e].values())\n",
    "    print(value_e[0])"
   ]
  }
 ],
 "metadata": {
  "kernelspec": {
   "display_name": "Python 3",
   "language": "python",
   "name": "python3"
  },
  "language_info": {
   "codemirror_mode": {
    "name": "ipython",
    "version": 3
   },
   "file_extension": ".py",
   "mimetype": "text/x-python",
   "name": "python",
   "nbconvert_exporter": "python",
   "pygments_lexer": "ipython3",
   "version": "3.8.5"
  }
 },
 "nbformat": 4,
 "nbformat_minor": 4
}
